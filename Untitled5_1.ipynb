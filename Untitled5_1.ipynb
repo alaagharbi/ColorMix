{
  "nbformat": 4,
  "nbformat_minor": 0,
  "metadata": {
    "colab": {
      "provenance": [],
      "include_colab_link": true
    },
    "kernelspec": {
      "name": "python3",
      "display_name": "Python 3"
    },
    "language_info": {
      "name": "python"
    }
  },
  "cells": [
    {
      "cell_type": "markdown",
      "metadata": {
        "id": "view-in-github",
        "colab_type": "text"
      },
      "source": [
        "<a href=\"https://colab.research.google.com/github/alaagharbi/ColorMix/blob/master/Untitled5_1.ipynb\" target=\"_parent\"><img src=\"https://colab.research.google.com/assets/colab-badge.svg\" alt=\"Open In Colab\"/></a>"
      ]
    },
    {
      "cell_type": "code",
      "execution_count": null,
      "metadata": {
        "colab": {
          "base_uri": "https://localhost:8080/"
        },
        "id": "krPc8SRHg-cs",
        "outputId": "831b140a-289b-4615-f5e3-ab26d14169d7"
      },
      "outputs": [
        {
          "output_type": "stream",
          "name": "stdout",
          "text": [
            "{'Date': [datetime.datetime(2017, 1, 1, 0, 0), datetime.datetime(2017, 2, 1, 0, 0), datetime.datetime(2017, 3, 1, 0, 0), datetime.datetime(2017, 4, 1, 0, 0), datetime.datetime(2017, 5, 1, 0, 0), datetime.datetime(2017, 6, 1, 0, 0), datetime.datetime(2017, 7, 1, 0, 0), datetime.datetime(2017, 8, 1, 0, 0), datetime.datetime(2017, 9, 1, 0, 0), datetime.datetime(2017, 10, 1, 0, 0), datetime.datetime(2017, 11, 1, 0, 0), datetime.datetime(2017, 12, 1, 0, 0), datetime.datetime(2018, 1, 1, 0, 0), datetime.datetime(2018, 2, 1, 0, 0), datetime.datetime(2018, 3, 1, 0, 0), datetime.datetime(2018, 4, 1, 0, 0), datetime.datetime(2018, 5, 1, 0, 0), datetime.datetime(2018, 6, 1, 0, 0), datetime.datetime(2018, 7, 1, 0, 0), datetime.datetime(2018, 8, 1, 0, 0), datetime.datetime(2018, 9, 1, 0, 0), datetime.datetime(2018, 10, 1, 0, 0), datetime.datetime(2018, 11, 1, 0, 0), datetime.datetime(2018, 12, 1, 0, 0), datetime.datetime(2019, 1, 1, 0, 0), datetime.datetime(2019, 2, 1, 0, 0), datetime.datetime(2019, 3, 1, 0, 0), datetime.datetime(2019, 4, 1, 0, 0), datetime.datetime(2019, 5, 1, 0, 0), datetime.datetime(2019, 6, 1, 0, 0), datetime.datetime(2019, 7, 1, 0, 0), datetime.datetime(2019, 8, 1, 0, 0), datetime.datetime(2019, 9, 1, 0, 0), datetime.datetime(2019, 10, 1, 0, 0), datetime.datetime(2019, 11, 1, 0, 0), datetime.datetime(2019, 12, 1, 0, 0), datetime.datetime(2020, 1, 1, 0, 0), datetime.datetime(2020, 2, 1, 0, 0), datetime.datetime(2020, 3, 1, 0, 0), datetime.datetime(2020, 4, 1, 0, 0), datetime.datetime(2020, 5, 1, 0, 0), datetime.datetime(2020, 6, 1, 0, 0), datetime.datetime(2020, 7, 1, 0, 0), datetime.datetime(2020, 8, 1, 0, 0), datetime.datetime(2020, 9, 1, 0, 0), datetime.datetime(2020, 10, 1, 0, 0), datetime.datetime(2020, 11, 1, 0, 0), datetime.datetime(2020, 12, 1, 0, 0), datetime.datetime(2021, 1, 1, 0, 0), datetime.datetime(2021, 2, 1, 0, 0), datetime.datetime(2021, 3, 1, 0, 0), datetime.datetime(2021, 4, 1, 0, 0), datetime.datetime(2021, 5, 1, 0, 0), datetime.datetime(2021, 6, 1, 0, 0), datetime.datetime(2021, 7, 1, 0, 0), datetime.datetime(2021, 8, 1, 0, 0), datetime.datetime(2021, 9, 1, 0, 0), datetime.datetime(2021, 10, 1, 0, 0), datetime.datetime(2021, 11, 1, 0, 0), datetime.datetime(2021, 12, 1, 0, 0), datetime.datetime(2022, 1, 1, 0, 0), datetime.datetime(2022, 2, 1, 0, 0), datetime.datetime(2022, 3, 1, 0, 0), datetime.datetime(2022, 4, 1, 0, 0), datetime.datetime(2022, 5, 1, 0, 0), datetime.datetime(2022, 6, 1, 0, 0), datetime.datetime(2022, 7, 1, 0, 0), datetime.datetime(2022, 8, 1, 0, 0), datetime.datetime(2022, 9, 1, 0, 0), datetime.datetime(2022, 10, 1, 0, 0), datetime.datetime(2022, 11, 1, 0, 0), datetime.datetime(2022, 12, 1, 0, 0), datetime.datetime(2023, 1, 1, 0, 0), datetime.datetime(2023, 2, 1, 0, 0), datetime.datetime(2023, 3, 1, 0, 0), datetime.datetime(2023, 4, 1, 0, 0), datetime.datetime(2023, 5, 1, 0, 0), datetime.datetime(2023, 6, 1, 0, 0), datetime.datetime(2023, 7, 1, 0, 0), datetime.datetime(2023, 8, 1, 0, 0), datetime.datetime(2023, 9, 1, 0, 0), datetime.datetime(2023, 10, 1, 0, 0), datetime.datetime(2023, 11, 1, 0, 0), datetime.datetime(2023, 12, 1, 0, 0), datetime.datetime(2024, 1, 1, 0, 0), datetime.datetime(2024, 2, 1, 0, 0), datetime.datetime(2024, 3, 1, 0, 0), datetime.datetime(2024, 4, 1, 0, 0), datetime.datetime(2024, 5, 1, 0, 0), datetime.datetime(2024, 6, 1, 0, 0), datetime.datetime(2024, 7, 1, 0, 0), datetime.datetime(2024, 8, 1, 0, 0), datetime.datetime(2024, 9, 1, 0, 0), datetime.datetime(2024, 10, 1, 0, 0), datetime.datetime(2024, 11, 1, 0, 0), datetime.datetime(2024, 12, 1, 0, 0), datetime.datetime(2025, 1, 1, 0, 0), datetime.datetime(2025, 2, 1, 0, 0), datetime.datetime(2025, 3, 1, 0, 0), datetime.datetime(2025, 4, 1, 0, 0), datetime.datetime(2025, 5, 1, 0, 0), datetime.datetime(2025, 6, 1, 0, 0), datetime.datetime(2025, 7, 1, 0, 0), datetime.datetime(2025, 8, 1, 0, 0), datetime.datetime(2025, 9, 1, 0, 0), datetime.datetime(2025, 10, 1, 0, 0), datetime.datetime(2025, 11, 1, 0, 0), datetime.datetime(2025, 12, 1, 0, 0), datetime.datetime(2026, 1, 1, 0, 0), datetime.datetime(2026, 2, 1, 0, 0), datetime.datetime(2026, 3, 1, 0, 0), datetime.datetime(2026, 4, 1, 0, 0), datetime.datetime(2026, 5, 1, 0, 0), datetime.datetime(2026, 6, 1, 0, 0), datetime.datetime(2026, 7, 1, 0, 0), datetime.datetime(2026, 8, 1, 0, 0), datetime.datetime(2026, 9, 1, 0, 0), datetime.datetime(2026, 10, 1, 0, 0), datetime.datetime(2026, 11, 1, 0, 0), datetime.datetime(2026, 12, 1, 0, 0), datetime.datetime(2027, 1, 1, 0, 0), datetime.datetime(2027, 2, 1, 0, 0), datetime.datetime(2027, 3, 1, 0, 0), datetime.datetime(2027, 4, 1, 0, 0), datetime.datetime(2027, 5, 1, 0, 0), datetime.datetime(2027, 6, 1, 0, 0), datetime.datetime(2027, 7, 1, 0, 0), datetime.datetime(2027, 8, 1, 0, 0), datetime.datetime(2027, 9, 1, 0, 0), datetime.datetime(2027, 10, 1, 0, 0), datetime.datetime(2027, 11, 1, 0, 0), datetime.datetime(2027, 12, 1, 0, 0), datetime.datetime(2028, 1, 1, 0, 0), datetime.datetime(2028, 2, 1, 0, 0), datetime.datetime(2028, 3, 1, 0, 0), datetime.datetime(2028, 4, 1, 0, 0), datetime.datetime(2028, 5, 1, 0, 0), datetime.datetime(2028, 6, 1, 0, 0), datetime.datetime(2028, 7, 1, 0, 0), datetime.datetime(2028, 8, 1, 0, 0), datetime.datetime(2028, 9, 1, 0, 0), datetime.datetime(2028, 10, 1, 0, 0), datetime.datetime(2028, 11, 1, 0, 0), datetime.datetime(2028, 12, 1, 0, 0), datetime.datetime(2029, 1, 1, 0, 0), datetime.datetime(2029, 2, 1, 0, 0), datetime.datetime(2029, 3, 1, 0, 0), datetime.datetime(2029, 4, 1, 0, 0), datetime.datetime(2029, 5, 1, 0, 0), datetime.datetime(2029, 6, 1, 0, 0), datetime.datetime(2029, 7, 1, 0, 0), datetime.datetime(2029, 8, 1, 0, 0), datetime.datetime(2029, 9, 1, 0, 0), datetime.datetime(2029, 10, 1, 0, 0), datetime.datetime(2029, 11, 1, 0, 0), datetime.datetime(2029, 12, 1, 0, 0), datetime.datetime(2030, 1, 1, 0, 0), datetime.datetime(2030, 2, 1, 0, 0), datetime.datetime(2030, 3, 1, 0, 0), datetime.datetime(2030, 4, 1, 0, 0), datetime.datetime(2030, 5, 1, 0, 0), datetime.datetime(2030, 6, 1, 0, 0), datetime.datetime(2030, 7, 1, 0, 0), datetime.datetime(2030, 8, 1, 0, 0), datetime.datetime(2030, 9, 1, 0, 0), datetime.datetime(2030, 10, 1, 0, 0), datetime.datetime(2030, 11, 1, 0, 0), datetime.datetime(2030, 12, 1, 0, 0), datetime.datetime(2031, 1, 1, 0, 0), datetime.datetime(2031, 2, 1, 0, 0), datetime.datetime(2031, 3, 1, 0, 0), datetime.datetime(2031, 4, 1, 0, 0), datetime.datetime(2031, 5, 1, 0, 0), datetime.datetime(2031, 6, 1, 0, 0), datetime.datetime(2031, 7, 1, 0, 0), datetime.datetime(2031, 8, 1, 0, 0), datetime.datetime(2031, 9, 1, 0, 0), datetime.datetime(2031, 10, 1, 0, 0), datetime.datetime(2031, 11, 1, 0, 0), datetime.datetime(2031, 12, 1, 0, 0), datetime.datetime(2032, 1, 1, 0, 0), datetime.datetime(2032, 2, 1, 0, 0), datetime.datetime(2032, 3, 1, 0, 0), datetime.datetime(2032, 4, 1, 0, 0), datetime.datetime(2032, 5, 1, 0, 0), datetime.datetime(2032, 6, 1, 0, 0), datetime.datetime(2032, 7, 1, 0, 0), datetime.datetime(2032, 8, 1, 0, 0), datetime.datetime(2032, 9, 1, 0, 0), datetime.datetime(2032, 10, 1, 0, 0), datetime.datetime(2032, 11, 1, 0, 0), datetime.datetime(2032, 12, 1, 0, 0), datetime.datetime(2033, 1, 1, 0, 0), datetime.datetime(2033, 2, 1, 0, 0), datetime.datetime(2033, 3, 1, 0, 0), datetime.datetime(2033, 4, 1, 0, 0), datetime.datetime(2033, 5, 1, 0, 0), datetime.datetime(2033, 6, 1, 0, 0), datetime.datetime(2033, 7, 1, 0, 0), datetime.datetime(2033, 8, 1, 0, 0), datetime.datetime(2033, 9, 1, 0, 0), datetime.datetime(2033, 10, 1, 0, 0), datetime.datetime(2033, 11, 1, 0, 0), datetime.datetime(2033, 12, 1, 0, 0), datetime.datetime(2034, 1, 1, 0, 0), datetime.datetime(2034, 2, 1, 0, 0), datetime.datetime(2034, 3, 1, 0, 0), datetime.datetime(2034, 4, 1, 0, 0), datetime.datetime(2034, 5, 1, 0, 0), datetime.datetime(2034, 6, 1, 0, 0), datetime.datetime(2034, 7, 1, 0, 0), datetime.datetime(2034, 8, 1, 0, 0), datetime.datetime(2034, 9, 1, 0, 0), datetime.datetime(2034, 10, 1, 0, 0), datetime.datetime(2034, 11, 1, 0, 0), datetime.datetime(2034, 12, 1, 0, 0), datetime.datetime(2035, 1, 1, 0, 0), datetime.datetime(2035, 2, 1, 0, 0), datetime.datetime(2035, 3, 1, 0, 0), datetime.datetime(2035, 4, 1, 0, 0), datetime.datetime(2035, 5, 1, 0, 0), datetime.datetime(2035, 6, 1, 0, 0), datetime.datetime(2035, 7, 1, 0, 0), datetime.datetime(2035, 8, 1, 0, 0), datetime.datetime(2035, 9, 1, 0, 0), datetime.datetime(2035, 10, 1, 0, 0), datetime.datetime(2035, 11, 1, 0, 0), datetime.datetime(2035, 12, 1, 0, 0), datetime.datetime(2036, 1, 1, 0, 0), datetime.datetime(2036, 2, 1, 0, 0), datetime.datetime(2036, 3, 1, 0, 0), datetime.datetime(2036, 4, 1, 0, 0), datetime.datetime(2036, 5, 1, 0, 0), datetime.datetime(2036, 6, 1, 0, 0), datetime.datetime(2036, 7, 1, 0, 0), datetime.datetime(2036, 8, 1, 0, 0), datetime.datetime(2036, 9, 1, 0, 0), datetime.datetime(2036, 10, 1, 0, 0), datetime.datetime(2036, 11, 1, 0, 0), datetime.datetime(2036, 12, 1, 0, 0), datetime.datetime(2037, 1, 1, 0, 0), datetime.datetime(2037, 2, 1, 0, 0), datetime.datetime(2037, 3, 1, 0, 0), datetime.datetime(2037, 4, 1, 0, 0), datetime.datetime(2037, 5, 1, 0, 0), datetime.datetime(2037, 6, 1, 0, 0), datetime.datetime(2037, 7, 1, 0, 0), datetime.datetime(2037, 8, 1, 0, 0), datetime.datetime(2037, 9, 1, 0, 0), datetime.datetime(2037, 10, 1, 0, 0), datetime.datetime(2037, 11, 1, 0, 0), datetime.datetime(2037, 12, 1, 0, 0), datetime.datetime(2038, 1, 1, 0, 0), datetime.datetime(2038, 2, 1, 0, 0), datetime.datetime(2038, 3, 1, 0, 0), datetime.datetime(2038, 4, 1, 0, 0), datetime.datetime(2038, 5, 1, 0, 0), datetime.datetime(2038, 6, 1, 0, 0), datetime.datetime(2038, 7, 1, 0, 0), datetime.datetime(2038, 8, 1, 0, 0), datetime.datetime(2038, 9, 1, 0, 0), datetime.datetime(2038, 10, 1, 0, 0), datetime.datetime(2038, 11, 1, 0, 0), datetime.datetime(2038, 12, 1, 0, 0), datetime.datetime(2039, 1, 1, 0, 0), datetime.datetime(2039, 2, 1, 0, 0), datetime.datetime(2039, 3, 1, 0, 0), datetime.datetime(2039, 4, 1, 0, 0), datetime.datetime(2039, 5, 1, 0, 0), datetime.datetime(2039, 6, 1, 0, 0), datetime.datetime(2039, 7, 1, 0, 0), datetime.datetime(2039, 8, 1, 0, 0), datetime.datetime(2039, 9, 1, 0, 0), datetime.datetime(2039, 10, 1, 0, 0), datetime.datetime(2039, 11, 1, 0, 0), datetime.datetime(2039, 12, 1, 0, 0), datetime.datetime(2040, 1, 1, 0, 0), datetime.datetime(2040, 2, 1, 0, 0), datetime.datetime(2040, 3, 1, 0, 0), datetime.datetime(2040, 4, 1, 0, 0), datetime.datetime(2040, 5, 1, 0, 0), datetime.datetime(2040, 6, 1, 0, 0), datetime.datetime(2040, 7, 1, 0, 0), datetime.datetime(2040, 8, 1, 0, 0), datetime.datetime(2040, 9, 1, 0, 0), datetime.datetime(2040, 10, 1, 0, 0), datetime.datetime(2040, 11, 1, 0, 0), datetime.datetime(2040, 12, 1, 0, 0), datetime.datetime(2041, 1, 1, 0, 0), datetime.datetime(2041, 2, 1, 0, 0), datetime.datetime(2041, 3, 1, 0, 0), datetime.datetime(2041, 4, 1, 0, 0), datetime.datetime(2041, 5, 1, 0, 0), datetime.datetime(2041, 6, 1, 0, 0), datetime.datetime(2041, 7, 1, 0, 0), datetime.datetime(2041, 8, 1, 0, 0), datetime.datetime(2041, 9, 1, 0, 0), datetime.datetime(2041, 10, 1, 0, 0), datetime.datetime(2041, 11, 1, 0, 0), datetime.datetime(2041, 12, 1, 0, 0)], 'CA': [4422, 7484, 8544, 15364, 19779, 21065, 29905, 38892, 47421, 52996, 57408, 66216, 72409, 75697, 85657, 88290, 89822, 96232, 104266, 112662, 120900, 126851, 133111, 140120, 142600, 144941, 148606, 150692, 155602, 164632, 165915, 167726, 169748, 172006, 180773, 183653, 192384, 197818, 204264, 213391, 220984, 226792, 231099, 235548, 240254, 245942, 253847, 261821, 270333, 278074, 280252, 285111, 291811, 296817, 300916, 302338, 307307, 313546, 315392, 320233, 321727, 330274, 339160, 349086, 354781, 359747, 366070, 375329, 381694, 385770, 394889, 403100, 412707, 415643, 416835, 422217, 425356, 427708, 430849, 436604, 441220, 445246, 450497, 453449, 458733, 462149, 467720, 475985, 479923, 481977, 487066, 493568, 496049, 498422, 504485, 507549, 514825, 523636, 527644, 532384, 535912, 543882, 544930, 547645, 548665, 550920, 559700, 569542, 576021, 585101, 591427, 593887, 601487, 605943, 615605, 616791, 619360, 627735, 634250, 639465, 642324, 651567, 653877, 657980, 662235, 671534, 678505, 687777, 694798, 696984, 705137, 707931, 717640, 719916, 729720, 735098, 737916, 742114, 745878, 754456, 756736, 758493, 763779, 772679, 774089, 778337, 787882, 792580, 799608, 806819, 814541, 823019, 829814, 833858, 840640, 847045, 850926, 860835, 869110, 874636, 882008, 891927, 894632, 897826, 906567, 910107, 912264, 921048, 924361, 932043, 935914, 940460, 947034, 956008, 965109, 972163, 977362, 978793, 983919, 991374, 998219, 1003890, 1010685, 1014612, 1022884, 1024182, 1031374, 1034624, 1038587, 1044583, 1053344, 1061567, 1062615, 1063893, 1070125, 1076253, 1084794, 1089392, 1096527, 1101851, 1103700, 1108977, 1115093, 1119714, 1127121, 1135676, 1143672, 1153280, 1160313, 1167199, 1173229, 1174659, 1176124, 1180679, 1187772, 1197735, 1203281, 1204502, 1208162, 1211111, 1217840, 1225239, 1227645, 1231644, 1240588, 1246169, 1254045, 1256863, 1261823, 1263525, 1271211, 1274215, 1283534, 1290865, 1299360, 1303558, 1308067, 1310800, 1311894, 1316117, 1320469, 1328333, 1336351, 1342150, 1345757, 1347163, 1351609, 1356735, 1363123, 1371945, 1381827, 1388084, 1396369, 1404250, 1410796, 1417322, 1422231, 1426230, 1430148, 1435972, 1438971, 1444524, 1449730, 1452148, 1458132, 1460007, 1461906, 1465561, 1468123, 1470800, 1476256, 1483113, 1491307, 1498684, 1507101, 1509635, 1512616, 1518574, 1528377, 1533468, 1542746, 1543970, 1551871, 1553632, 1559871, 1566175, 1574357, 1582160, 1590853, 1594149, 1599360, 1607179, 1615127, 1616548, 1623915, 1628668, 1637355, 1645810, 1652845, 1661662]}\n"
          ]
        }
      ],
      "source": [
        "import random\n",
        "from datetime import datetime\n",
        "from dateutil.relativedelta import relativedelta\n",
        "\n",
        "# Define start and end dates\n",
        "start_date = datetime.strptime('2017-01-01', '%Y-%m-%d')\n",
        "end_date = datetime.strptime('2017-12-31', '%Y-%m-%d')\n",
        "\n",
        "# Generate random budget values\n",
        "budget_values = [random.randint(1000, 10000) for _ in range(300)]\n",
        "\n",
        "# Create date range\n",
        "date_range = [start_date + relativedelta(months=i) for i in range(300)]\n",
        "\n",
        "# Calculate cumulative CA for each month\n",
        "cumulative_ca = []\n",
        "cumulative_total = 0\n",
        "for i in range(len(date_range)):\n",
        "    cumulative_total += budget_values[i]\n",
        "    cumulative_ca.append(cumulative_total)\n",
        "\n",
        "# Create dataset with two columns\n",
        "dataset = {'Date': date_range, 'CA': cumulative_ca}\n",
        "print(dataset)"
      ]
    },
    {
      "cell_type": "code",
      "source": [
        "import pandas as pd\n",
        "\n",
        "# Create a DataFrame from the dataset dictionary\n",
        "df = pd.DataFrame(dataset)\n",
        "\n",
        "# Export the DataFrame to a CSV file named \"dataset.csv\"\n",
        "df.to_csv('dataset.csv', index=False)\n"
      ],
      "metadata": {
        "id": "Fqk48dK4jHOu"
      },
      "execution_count": null,
      "outputs": []
    },
    {
      "cell_type": "code",
      "source": [
        "import pandas as pd\n",
        "import numpy as np\n",
        "import matplotlib.pyplot as plt\n",
        "from sklearn.linear_model import LinearRegression\n",
        "from sklearn.tree import DecisionTreeRegressor\n",
        "from sklearn.ensemble import RandomForestRegressor\n",
        "from sklearn.model_selection import train_test_split\n",
        "from sklearn.metrics import r2_score, mean_squared_error"
      ],
      "metadata": {
        "id": "J_h9160gk60R"
      },
      "execution_count": null,
      "outputs": []
    },
    {
      "cell_type": "code",
      "source": [
        "data = pd.read_csv('/content/dataset.csv')\n",
        "\n",
        "data['Date'] = pd.to_datetime(data['Date'])\n",
        "data['year'] = data['Date'].dt.year\n",
        "data['month'] = data['Date'].dt.month\n",
        "data['day'] = data['Date'].dt.day\n",
        "print(data)\n",
        "# Split the data into training and testing sets\n",
        "X = data.drop(['Date','CA'], axis=1)\n",
        "y = data['CA']\n",
        "X_train, X_test, y_train, y_test = train_test_split(X, y, test_size=0.2, random_state=42)"
      ],
      "metadata": {
        "colab": {
          "base_uri": "https://localhost:8080/"
        },
        "id": "G0e28pY0lTFx",
        "outputId": "dd51f8ce-fb81-468c-85f6-a12af09fb83e"
      },
      "execution_count": null,
      "outputs": [
        {
          "output_type": "stream",
          "name": "stdout",
          "text": [
            "          Date       CA  year  month  day\n",
            "0   2017-01-01     4422  2017      1    1\n",
            "1   2017-02-01     7484  2017      2    1\n",
            "2   2017-03-01     8544  2017      3    1\n",
            "3   2017-04-01    15364  2017      4    1\n",
            "4   2017-05-01    19779  2017      5    1\n",
            "..         ...      ...   ...    ...  ...\n",
            "295 2041-08-01  1628668  2041      8    1\n",
            "296 2041-09-01  1637355  2041      9    1\n",
            "297 2041-10-01  1645810  2041     10    1\n",
            "298 2041-11-01  1652845  2041     11    1\n",
            "299 2041-12-01  1661662  2041     12    1\n",
            "\n",
            "[300 rows x 5 columns]\n"
          ]
        }
      ]
    },
    {
      "cell_type": "code",
      "source": [
        "# Linear Regression\n",
        "lr = LinearRegression()\n",
        "lr.fit(X_train, y_train)\n",
        "lr_predictions = lr.predict(X_test)\n",
        "print(\"Linear Regression R^2 Score:\", r2_score(y_test, lr_predictions))\n",
        "print(\"Linear Regression RMSE Score:\", np.sqrt(mean_squared_error(y_test, lr_predictions)))"
      ],
      "metadata": {
        "colab": {
          "base_uri": "https://localhost:8080/"
        },
        "id": "UCk7vxXglV1q",
        "outputId": "cb6d1d17-90a3-4ab5-970e-5fd1fec862be"
      },
      "execution_count": null,
      "outputs": [
        {
          "output_type": "stream",
          "name": "stdout",
          "text": [
            "Linear Regression R^2 Score: 0.9996828309638922\n",
            "Linear Regression RMSE Score: 8636.625162814158\n"
          ]
        }
      ]
    },
    {
      "cell_type": "code",
      "source": [
        "# Decision Tree Regression\n",
        "dtr = DecisionTreeRegressor(random_state=42)\n",
        "dtr.fit(X_train, y_train)\n",
        "dtr_predictions = dtr.predict(X_test)\n",
        "print(\"Decision Tree Regression R^2 Score:\", r2_score(y_test, dtr_predictions))\n",
        "print(\"Decision Tree Regression RMSE Score:\", np.sqrt(mean_squared_error(y_test, dtr_predictions)))"
      ],
      "metadata": {
        "colab": {
          "base_uri": "https://localhost:8080/"
        },
        "id": "2UQ95_aQmowt",
        "outputId": "73442c63-83db-4689-df02-4fd71f79b72d"
      },
      "execution_count": null,
      "outputs": [
        {
          "output_type": "stream",
          "name": "stdout",
          "text": [
            "Decision Tree Regression R^2 Score: 0.9998335797870685\n",
            "Decision Tree Regression RMSE Score: 6256.07168943366\n"
          ]
        }
      ]
    },
    {
      "cell_type": "code",
      "source": [
        "# Random Forest Regression\n",
        "rfr = RandomForestRegressor(n_estimators=100, random_state=42)\n",
        "rfr.fit(X_train, y_train)\n",
        "rfr_predictions = rfr.predict(X_test)\n",
        "print(\"Random Forest Regression R^2 Score:\", r2_score(y_test, rfr_predictions))\n",
        "print(\"Random Forest Regression RMSE Score:\", np.sqrt(mean_squared_error(y_test, rfr_predictions)))"
      ],
      "metadata": {
        "colab": {
          "base_uri": "https://localhost:8080/"
        },
        "id": "k3eF2TmHmwA_",
        "outputId": "9ad60551-d10c-4db3-c878-27167a1576c9"
      },
      "execution_count": null,
      "outputs": [
        {
          "output_type": "stream",
          "name": "stdout",
          "text": [
            "Random Forest Regression R^2 Score: 0.9998961031935709\n",
            "Random Forest Regression RMSE Score: 4943.104357801033\n"
          ]
        }
      ]
    },
    {
      "cell_type": "code",
      "source": [
        "# Save the trained models as files\n",
        "import joblib\n",
        "import json\n",
        "\n",
        "joblib.dump(lr, 'linear_regression.joblib')\n",
        "joblib.dump(dtr, 'decision_tree_regression.joblib')\n",
        "joblib.dump(rfr, 'random_forest_regression.joblib')\n"
      ],
      "metadata": {
        "colab": {
          "base_uri": "https://localhost:8080/"
        },
        "id": "Ij_6ULi4m7Og",
        "outputId": "55bc7a4e-a062-4943-b2ab-1131927c54bd"
      },
      "execution_count": null,
      "outputs": [
        {
          "output_type": "execute_result",
          "data": {
            "text/plain": [
              "['random_forest_regression.joblib']"
            ]
          },
          "metadata": {},
          "execution_count": 12
        }
      ]
    },
    {
      "cell_type": "code",
      "source": [
        "# Load the trained model file\n",
        "model = joblib.load('/content/linear_regression.joblib')\n",
        "\n",
        "# Make a prediction on a new data point\n",
        "new_data = [[2080, 2,5]] # replace with your own data\n",
        "prediction = model.predict(new_data)\n",
        "# print(prediction)\n",
        "# Create a dictionary with the prediction value\n",
        "result = {'prediction': prediction[0]}\n",
        "# Convert the dictionary to a JSON string\n",
        "json_string = json.dumps(result)\n",
        "# Print the JSON string\n",
        "print(json_string)"
      ],
      "metadata": {
        "colab": {
          "base_uri": "https://localhost:8080/"
        },
        "id": "6MXm3Qpxp3eq",
        "outputId": "88e68c76-ee0d-4ca0-9eea-540e1640d797"
      },
      "execution_count": null,
      "outputs": [
        {
          "output_type": "stream",
          "name": "stdout",
          "text": [
            "{\"prediction\": 4180043.548873946}\n"
          ]
        },
        {
          "output_type": "stream",
          "name": "stderr",
          "text": [
            "/usr/local/lib/python3.10/dist-packages/sklearn/base.py:439: UserWarning: X does not have valid feature names, but LinearRegression was fitted with feature names\n",
            "  warnings.warn(\n"
          ]
        }
      ]
    },
    {
      "cell_type": "code",
      "source": [],
      "metadata": {
        "id": "8pCV6OOLHx5l"
      },
      "execution_count": null,
      "outputs": []
    }
  ]
}